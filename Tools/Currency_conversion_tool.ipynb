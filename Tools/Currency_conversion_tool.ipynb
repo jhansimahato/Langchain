{
 "cells": [
  {
   "cell_type": "markdown",
   "id": "766b35f3",
   "metadata": {},
   "source": [
    "### CURRENCY CONVERSION TOOL"
   ]
  },
  {
   "cell_type": "code",
   "execution_count": 36,
   "id": "831b296a",
   "metadata": {},
   "outputs": [],
   "source": [
    "from langchain_openai import ChatOpenAI\n",
    "from langchain_core.messages import HumanMessage\n",
    "from langchain_core.tools import tool\n",
    "from dotenv import load_dotenv\n",
    "from langchain_core.tools import InjectedToolArg\n",
    "from typing import Annotated\n",
    "import requests"
   ]
  },
  {
   "cell_type": "markdown",
   "id": "3bdfcdca",
   "metadata": {},
   "source": [
    "### Tool Creation"
   ]
  },
  {
   "cell_type": "code",
   "execution_count": 37,
   "id": "b0f56c68",
   "metadata": {},
   "outputs": [],
   "source": [
    "@tool \n",
    "def get_conversion_factor(base_currency: str, target_currency:str) -> float:\n",
    "    \"\"\"\n",
    "    This function fetches the currency conversion factor between a given base currency and a target currency.\n",
    "    \"\"\"\n",
    "    url = f'https://v6.exchangerate-api.com/v6/222e06b00a690c2392706798/pair/{base_currency}/{target_currency}'\n",
    "\n",
    "    response = requests.get(url)\n",
    "\n",
    "    return response.json()\n",
    "\n",
    "\n",
    "@tool\n",
    "def convert_currency(base_currency_value: float, conversion_rate: Annotated[float, InjectedToolArg]) -> float:\n",
    "    \"\"\"\n",
    "    Given a currency conversion rate this function calculates the target currency value from a given base currency value.\n",
    "    \"\"\"\n",
    "    return base_currency_value * conversion_rate\n",
    "\n",
    "\n"
   ]
  },
  {
   "cell_type": "code",
   "execution_count": 38,
   "id": "de1e7e40",
   "metadata": {},
   "outputs": [
    {
     "data": {
      "text/plain": [
       "{'result': 'success',\n",
       " 'documentation': 'https://www.exchangerate-api.com/docs',\n",
       " 'terms_of_use': 'https://www.exchangerate-api.com/terms',\n",
       " 'time_last_update_unix': 1746835202,\n",
       " 'time_last_update_utc': 'Sat, 10 May 2025 00:00:02 +0000',\n",
       " 'time_next_update_unix': 1746921602,\n",
       " 'time_next_update_utc': 'Sun, 11 May 2025 00:00:02 +0000',\n",
       " 'base_code': 'USD',\n",
       " 'target_code': 'INR',\n",
       " 'conversion_rate': 85.4999}"
      ]
     },
     "execution_count": 38,
     "metadata": {},
     "output_type": "execute_result"
    }
   ],
   "source": [
    "# trying the tool\n",
    "get_conversion_factor({'base_currency':'USD','target_currency':'INR'})"
   ]
  },
  {
   "cell_type": "code",
   "execution_count": 39,
   "id": "f7a1b8c5",
   "metadata": {},
   "outputs": [
    {
     "data": {
      "text/plain": [
       "8250.0"
      ]
     },
     "execution_count": 39,
     "metadata": {},
     "output_type": "execute_result"
    }
   ],
   "source": [
    "convert_currency({'base_currency_value':100,'conversion_rate':82.5})"
   ]
  },
  {
   "cell_type": "code",
   "execution_count": 40,
   "id": "9c9f122c",
   "metadata": {},
   "outputs": [],
   "source": [
    "llm = ChatOpenAI()"
   ]
  },
  {
   "cell_type": "code",
   "execution_count": 41,
   "id": "3badd5f4",
   "metadata": {},
   "outputs": [],
   "source": [
    "#tool binding\n",
    "llm_with_tools = llm.bind_tools([get_conversion_factor, convert_currency])"
   ]
  },
  {
   "cell_type": "code",
   "execution_count": 42,
   "id": "562735c2",
   "metadata": {},
   "outputs": [],
   "source": [
    "messages = [HumanMessage(content=\"What is the conversion rate of USD and INR, and based on that can you convert 10 usd to inr?\")]"
   ]
  },
  {
   "cell_type": "code",
   "execution_count": 43,
   "id": "d123ff36",
   "metadata": {},
   "outputs": [],
   "source": [
    "AI_message = llm_with_tools.invoke(messages)\n",
    "messages.append(AI_message)"
   ]
  },
  {
   "cell_type": "code",
   "execution_count": 44,
   "id": "c009e4d7",
   "metadata": {},
   "outputs": [],
   "source": [
    "import json\n",
    "\n",
    "for tool_call in AI_message.tool_calls:\n",
    "    if tool_call['name'] == 'get_conversion_factor':\n",
    "        #Invoke the tool to get tool_message which contains the conversion rate\n",
    "        tool_message1 = get_conversion_factor.invoke(tool_call)\n",
    "        #Extract the conversion rate from the tool_message\n",
    "        conversion_rate = json.loads(tool_message1.content)['conversion_rate']\n",
    "        messages.append(tool_message1)\n",
    "\n",
    "    if tool_call['name'] == 'convert_currency':\n",
    "        #fetch the current arg\n",
    "        tool_call['args']['conversion_rate'] = conversion_rate\n",
    "        tool_message2 = convert_currency.invoke(tool_call)\n",
    "        messages.append(tool_message2)\n",
    "\n"
   ]
  },
  {
   "cell_type": "code",
   "execution_count": 45,
   "id": "11bd8cbe",
   "metadata": {},
   "outputs": [
    {
     "data": {
      "text/plain": [
       "[HumanMessage(content='What is the conversion rate of USD and INR, and based on that can you convert 10 usd to inr?', additional_kwargs={}, response_metadata={}),\n",
       " AIMessage(content='', additional_kwargs={'tool_calls': [{'id': 'call_J1xPQXquPcz5ls2ejP7R81Mh', 'function': {'arguments': '{\"base_currency\": \"USD\", \"target_currency\": \"INR\"}', 'name': 'get_conversion_factor'}, 'type': 'function'}, {'id': 'call_cOs9hUdjc6eUkXybEwz35ySK', 'function': {'arguments': '{\"base_currency_value\": 10}', 'name': 'convert_currency'}, 'type': 'function'}], 'refusal': None}, response_metadata={'token_usage': {'completion_tokens': 54, 'prompt_tokens': 125, 'total_tokens': 179, 'completion_tokens_details': {'accepted_prediction_tokens': 0, 'audio_tokens': 0, 'reasoning_tokens': 0, 'rejected_prediction_tokens': 0}, 'prompt_tokens_details': {'audio_tokens': 0, 'cached_tokens': 0}}, 'model_name': 'gpt-3.5-turbo-0125', 'system_fingerprint': None, 'id': 'chatcmpl-BVelSHXjz7lZMmrvVqTQqPfQQMo0D', 'service_tier': 'default', 'finish_reason': 'tool_calls', 'logprobs': None}, id='run--9d55e2ee-8cf4-491a-babd-184297a62797-0', tool_calls=[{'name': 'get_conversion_factor', 'args': {'base_currency': 'USD', 'target_currency': 'INR'}, 'id': 'call_J1xPQXquPcz5ls2ejP7R81Mh', 'type': 'tool_call'}, {'name': 'convert_currency', 'args': {'base_currency_value': 10, 'conversion_rate': 85.4999}, 'id': 'call_cOs9hUdjc6eUkXybEwz35ySK', 'type': 'tool_call'}], usage_metadata={'input_tokens': 125, 'output_tokens': 54, 'total_tokens': 179, 'input_token_details': {'audio': 0, 'cache_read': 0}, 'output_token_details': {'audio': 0, 'reasoning': 0}}),\n",
       " ToolMessage(content='{\"result\": \"success\", \"documentation\": \"https://www.exchangerate-api.com/docs\", \"terms_of_use\": \"https://www.exchangerate-api.com/terms\", \"time_last_update_unix\": 1746835202, \"time_last_update_utc\": \"Sat, 10 May 2025 00:00:02 +0000\", \"time_next_update_unix\": 1746921602, \"time_next_update_utc\": \"Sun, 11 May 2025 00:00:02 +0000\", \"base_code\": \"USD\", \"target_code\": \"INR\", \"conversion_rate\": 85.4999}', name='get_conversion_factor', tool_call_id='call_J1xPQXquPcz5ls2ejP7R81Mh'),\n",
       " ToolMessage(content='854.999', name='convert_currency', tool_call_id='call_cOs9hUdjc6eUkXybEwz35ySK')]"
      ]
     },
     "execution_count": 45,
     "metadata": {},
     "output_type": "execute_result"
    }
   ],
   "source": [
    "messages"
   ]
  },
  {
   "cell_type": "code",
   "execution_count": 46,
   "id": "226f0bf1",
   "metadata": {},
   "outputs": [
    {
     "data": {
      "text/plain": [
       "'The conversion rate of USD to INR is 1 USD = 85.4999 INR. \\nTherefore, 10 USD is equal to 854.999 INR.'"
      ]
     },
     "execution_count": 46,
     "metadata": {},
     "output_type": "execute_result"
    }
   ],
   "source": [
    "llm_with_tools.invoke(messages).content"
   ]
  },
  {
   "cell_type": "code",
   "execution_count": null,
   "id": "ff39404a",
   "metadata": {},
   "outputs": [],
   "source": []
  }
 ],
 "metadata": {
  "kernelspec": {
   "display_name": "venv",
   "language": "python",
   "name": "python3"
  },
  "language_info": {
   "codemirror_mode": {
    "name": "ipython",
    "version": 3
   },
   "file_extension": ".py",
   "mimetype": "text/x-python",
   "name": "python",
   "nbconvert_exporter": "python",
   "pygments_lexer": "ipython3",
   "version": "3.13.3"
  }
 },
 "nbformat": 4,
 "nbformat_minor": 5
}
